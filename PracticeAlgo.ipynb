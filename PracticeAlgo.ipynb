{
  "nbformat": 4,
  "nbformat_minor": 0,
  "metadata": {
    "colab": {
      "name": "Untitled0.ipynb",
      "provenance": [],
      "authorship_tag": "ABX9TyPamxs7XM3qAJK/H8+CvihK"
    },
    "kernelspec": {
      "name": "python3",
      "display_name": "Python 3"
    }
  },
  "cells": [
    {
      "cell_type": "markdown",
      "metadata": {
        "id": "QesIRcd_xxf3",
        "colab_type": "text"
      },
      "source": [
        "# DFS\n"
      ]
    },
    {
      "cell_type": "code",
      "metadata": {
        "id": "kLuV43UfkSfT",
        "colab_type": "code",
        "colab": {}
      },
      "source": [
        "class Solution:\n",
        "    def numIslands(self, grid: List[List[str]]) -> int:\n",
        "        if not grid: return 0\n",
        "        r, c = len(grid), len(grid[0])\n",
        "        visited = [[False for _ in range(c)] for _ in range(r)]\n",
        "\n",
        "        def dfs(i, j):\n",
        "            if i < 0 or i >= r or j < 0 or j >= c or grid[i][j] == '0' or visited[i][j]:\n",
        "                return\n",
        "            visited[i][j] = True\n",
        "            dfs(i + 1, j)\n",
        "            dfs(i - 1, j)\n",
        "            dfs(i, j + 1)\n",
        "            dfs(i, j - 1)\n",
        "\n",
        "        count = 0\n",
        "        for i in range(r):\n",
        "            for j in range(c):\n",
        "                if not visited[i][j] and grid[i][j] == '1':\n",
        "                    dfs(i, j)\n",
        "                    count += 1\n",
        "        return count"
      ],
      "execution_count": null,
      "outputs": []
    },
    {
      "cell_type": "markdown",
      "metadata": {
        "id": "fyFVmteIyimh",
        "colab_type": "text"
      },
      "source": [
        "# BFS"
      ]
    },
    {
      "cell_type": "code",
      "metadata": {
        "id": "YvefBt8GyiIs",
        "colab_type": "code",
        "colab": {}
      },
      "source": [
        "def bfs(visited, graph, node):\n",
        "  visited.append(node)\n",
        "  queue.append(node)\n",
        "\n",
        "  while queue:\n",
        "    s = queue.pop(0) \n",
        "    print (s, end = \" \") \n",
        "\n",
        "    for neighbour in graph[s]:\n",
        "      if neighbour not in visited:\n",
        "        visited.append(neighbour)\n",
        "        queue.append(neighbour)"
      ],
      "execution_count": null,
      "outputs": []
    },
    {
      "cell_type": "markdown",
      "metadata": {
        "id": "rtSlYMBBz3Lf",
        "colab_type": "text"
      },
      "source": [
        "# Binary Search"
      ]
    },
    {
      "cell_type": "code",
      "metadata": {
        "id": "WU9sccK-z7GB",
        "colab_type": "code",
        "colab": {}
      },
      "source": [
        "class Solution:\n",
        "    def search(self, nums, target):\n",
        "        l, r = 0, len(nums) - 1\n",
        "        while l <= r:\n",
        "            mid = (l + r) // 2\n",
        "            if nums[mid] < target:\n",
        "                l = mid + 1\n",
        "            elif nums[mid] > target:\n",
        "                r = mid - 1\n",
        "            else:\n",
        "                return mid\n",
        "        return -1"
      ],
      "execution_count": null,
      "outputs": []
    },
    {
      "cell_type": "markdown",
      "metadata": {
        "id": "qX6Dc7981i5Q",
        "colab_type": "text"
      },
      "source": [
        "# Coin Change BFS"
      ]
    },
    {
      "cell_type": "code",
      "metadata": {
        "id": "zDGGeZiO1k5D",
        "colab_type": "code",
        "colab": {}
      },
      "source": [
        "class Solution:\n",
        "    def coinChange(self, coins: List[int], amount: int) -> int:\n",
        "        \"\"\"\n",
        "        Use BFS which is to find the shortest path from 0 to amount.\n",
        "        This is much faster than the above dp solution.\n",
        "        \"\"\"\n",
        "        if not amount:  # Don't need any coin.\n",
        "            return 0\n",
        "\n",
        "        queue = deque([(0, 0)])\n",
        "        visited =  [False] * (amount + 1)\n",
        "        while queue:\n",
        "            totalCoins, currVal = queue.popleft()\n",
        "            totalCoins += 1  # Take a new coin.\n",
        "            for coin in coins:\n",
        "                nextVal = currVal + coin\n",
        "                if nextVal == amount:  # Find a combination.\n",
        "                    return totalCoins\n",
        "\n",
        "                if nextVal < amount:  # Could add more coins.\n",
        "                    if not visited[nextVal]:  # Current value not checked.\n",
        "                        visited[nextVal] = True  # Prevent checking again.\n",
        "                        queue.append((totalCoins, nextVal))\n",
        "\n",
        "        return -1  # Cannot find any combination."
      ],
      "execution_count": null,
      "outputs": []
    },
    {
      "cell_type": "markdown",
      "metadata": {
        "id": "JI6gmFj20JUJ",
        "colab_type": "text"
      },
      "source": [
        "# Linked Lists\n"
      ]
    },
    {
      "cell_type": "markdown",
      "metadata": {
        "id": "b__BF28U1EfC",
        "colab_type": "text"
      },
      "source": [
        "Reverse"
      ]
    },
    {
      "cell_type": "code",
      "metadata": {
        "id": "qmPbdUyb1FxP",
        "colab_type": "code",
        "colab": {}
      },
      "source": [
        "# Definition for singly-linked list.\n",
        "# class ListNode:\n",
        "#     def __init__(self, val=0, next=None):\n",
        "#         self.val = val\n",
        "#         self.next = next\n",
        "class Solution:\n",
        "    def reverseList(self, head):\n",
        "        prev = None\n",
        "        while head:\n",
        "            curr = head\n",
        "            head = head.next\n",
        "            curr.next = prev\n",
        "            prev = curr\n",
        "        return prev"
      ],
      "execution_count": null,
      "outputs": []
    },
    {
      "cell_type": "markdown",
      "metadata": {
        "id": "xRqm5aNd1UCJ",
        "colab_type": "text"
      },
      "source": [
        "Palindrome"
      ]
    },
    {
      "cell_type": "code",
      "metadata": {
        "id": "Qcz8wPnN1WDh",
        "colab_type": "code",
        "colab": {}
      },
      "source": [
        "# Definition for singly-linked list.\n",
        "# class ListNode:\n",
        "#     def __init__(self, val=0, next=None):\n",
        "#         self.val = val\n",
        "#         self.next = next\n",
        "class Solution:\n",
        "    def isPalindrome(self, head: ListNode) -> bool:\n",
        "            vals = []\n",
        "            current_node = head\n",
        "            while current_node is not None:\n",
        "                vals.append(current_node.val)\n",
        "                current_node = current_node.next\n",
        "            return vals == vals[::-1]"
      ],
      "execution_count": null,
      "outputs": []
    },
    {
      "cell_type": "markdown",
      "metadata": {
        "id": "kPez7IF90jTF",
        "colab_type": "text"
      },
      "source": [
        "Has Cycle"
      ]
    },
    {
      "cell_type": "code",
      "metadata": {
        "id": "SU02o6DU0guJ",
        "colab_type": "code",
        "colab": {}
      },
      "source": [
        "class Solution:\n",
        "    def hasCycle(self, head):\n",
        "        try:\n",
        "            slow = head\n",
        "            fast = head.next\n",
        "            while slow is not fast:\n",
        "                slow = slow.next\n",
        "                fast = fast.next.next\n",
        "            return True\n",
        "        except:\n",
        "            return False"
      ],
      "execution_count": null,
      "outputs": []
    },
    {
      "cell_type": "markdown",
      "metadata": {
        "id": "RUeaD1S30nNg",
        "colab_type": "text"
      },
      "source": [
        "Detect where cycle happens"
      ]
    },
    {
      "cell_type": "code",
      "metadata": {
        "id": "GGKvn6H70vsw",
        "colab_type": "code",
        "colab": {}
      },
      "source": [
        "# Definition for singly-linked list.\n",
        "# class ListNode:\n",
        "#     def __init__(self, x):\n",
        "#         self.val = x\n",
        "#         self.next = None\n",
        "\n",
        "class Solution:\n",
        "    def detectCycle(self, head):\n",
        "        try:\n",
        "            fast = head.next\n",
        "            slow = head\n",
        "            while fast is not slow:\n",
        "                fast = fast.next.next\n",
        "                slow = slow.next\n",
        "        except:\n",
        "            # if there is an exception, we reach the end and there is no cycle\n",
        "            return None\n",
        "\n",
        "        # since fast starts at head.next, we need to move slow one step forward\n",
        "        slow = slow.next\n",
        "        while head is not slow:\n",
        "            head = head.next\n",
        "            slow = slow.next\n",
        "\n",
        "        return head"
      ],
      "execution_count": null,
      "outputs": []
    },
    {
      "cell_type": "markdown",
      "metadata": {
        "id": "naNhLjtK0w6u",
        "colab_type": "text"
      },
      "source": [
        "Remove nth"
      ]
    },
    {
      "cell_type": "code",
      "metadata": {
        "id": "q1axtHJ200_L",
        "colab_type": "code",
        "colab": {}
      },
      "source": [
        "# Definition for singly-linked list.\n",
        "# class ListNode:\n",
        "#     def __init__(self, val=0, next=None):\n",
        "#         self.val = val\n",
        "#         self.next = next\n",
        "class Solution:\n",
        "    def removeNthFromEnd(self, head: ListNode, n: int) -> ListNode:\n",
        "        start = ListNode(0)\n",
        "        start.next = head\n",
        "        fast = slow = start\n",
        "        \n",
        "        for _ in range(n):\n",
        "            fast = fast.next\n",
        "        \n",
        "        while fast.next:\n",
        "            fast = fast.next\n",
        "            slow = slow.next\n",
        "            \n",
        "        slow.next=slow.next.next\n",
        "        return start.next"
      ],
      "execution_count": null,
      "outputs": []
    },
    {
      "cell_type": "markdown",
      "metadata": {
        "id": "qhmaFrfV01rW",
        "colab_type": "text"
      },
      "source": [
        "Get intersection"
      ]
    },
    {
      "cell_type": "code",
      "metadata": {
        "id": "9CYO1ZUp0_Pi",
        "colab_type": "code",
        "colab": {}
      },
      "source": [
        "# Definition for singly-linked list.\n",
        "# class ListNode:\n",
        "#     def __init__(self, x):\n",
        "#         self.val = x\n",
        "#         self.next = None\n",
        "\n",
        "class Solution:\n",
        "    def getIntersectionNode(self, headA, headB):\n",
        "        if headA is None or headB is None:\n",
        "            return None\n",
        "\n",
        "        pa = headA # 2 pointers\n",
        "        pb = headB\n",
        "\n",
        "        while pa is not pb:\n",
        "            # if either pointer hits the end, switch head and continue the second traversal, \n",
        "            # if not hit the end, just move on to next\n",
        "            pa = headB if pa is None else pa.next\n",
        "            pb = headA if pb is None else pb.next\n",
        "\n",
        "        return pb"
      ],
      "execution_count": null,
      "outputs": []
    },
    {
      "cell_type": "markdown",
      "metadata": {
        "id": "xbPyYqKa3JRb",
        "colab_type": "text"
      },
      "source": [
        "# DP"
      ]
    },
    {
      "cell_type": "markdown",
      "metadata": {
        "id": "104lH2Ci3MYB",
        "colab_type": "text"
      },
      "source": [
        " Max Sub Array KADANE"
      ]
    },
    {
      "cell_type": "code",
      "metadata": {
        "id": "SQz4dvk43Lnm",
        "colab_type": "code",
        "colab": {}
      },
      "source": [
        "def maxSubArray(self, nums: List[int]) -> int:\n",
        "        dp = [0]*len(nums)\n",
        "        dp[0] = nums[0]\n",
        "        for i in range(1, len(nums)):\n",
        "            dp[i] = max(dp[i-1]+nums[i], nums[i])\n",
        "        return max(dp)"
      ],
      "execution_count": null,
      "outputs": []
    },
    {
      "cell_type": "markdown",
      "metadata": {
        "id": "yY_Skg703REq",
        "colab_type": "text"
      },
      "source": [
        "Coin change DP"
      ]
    },
    {
      "cell_type": "code",
      "metadata": {
        "id": "d6uk5nRH3Y-F",
        "colab_type": "code",
        "colab": {}
      },
      "source": [
        "def coinChange(self, coins: 'List[int]', amount: 'int') -> 'int':\n",
        "        dp = [0] + [float('inf') for i in range(amount)]\n",
        "        for i in range(1, amount+1):\n",
        "            for coin in coins:\n",
        "                if i - coin >= 0:\n",
        "                    dp[i] = min(dp[i], dp[i-coin] + 1)\n",
        "        if dp[-1] == float('inf'):\n",
        "            return -1\n",
        "        return dp[-1]"
      ],
      "execution_count": null,
      "outputs": []
    }
  ]
}